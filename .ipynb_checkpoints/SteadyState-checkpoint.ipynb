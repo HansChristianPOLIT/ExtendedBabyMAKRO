{
 "cells": [
  {
   "cell_type": "markdown",
   "id": "2a36c6d0-c163-43ca-b4ce-6d9128b7fbea",
   "metadata": {},
   "source": [
    "# Steady State Test"
   ]
  },
  {
   "cell_type": "code",
   "execution_count": 1,
   "id": "072bf35d-22f6-4ffc-a016-e65bddbdf55a",
   "metadata": {},
   "outputs": [],
   "source": [
    "%load_ext autoreload\n",
    "%autoreload 2\n",
    "\n",
    "import time\n",
    "import pickle\n",
    "import numpy as np\n",
    "from scipy import optimize\n",
    "\n",
    "import matplotlib.pyplot as plt   \n",
    "plt.style.use('seaborn-whitegrid')\n",
    "prop_cycle = plt.rcParams['axes.prop_cycle']\n",
    "colors = prop_cycle.by_key()['color']\n",
    "\n",
    "from BabyMAKROModel import BabyMAKROModelClass"
   ]
  },
  {
   "cell_type": "markdown",
   "id": "140eee49-2cac-4779-8937-78cf21d42103",
   "metadata": {},
   "source": [
    "# Setup"
   ]
  },
  {
   "cell_type": "code",
   "execution_count": 2,
   "id": "8836e488-a54a-48cc-b6db-6b3c69d29d1c",
   "metadata": {},
   "outputs": [],
   "source": [
    "model = BabyMAKROModelClass(name='Extended') # create an instance of the model"
   ]
  },
  {
   "cell_type": "code",
   "execution_count": 3,
   "id": "02f2d12b-caaa-486d-a7c4-529aad565201",
   "metadata": {},
   "outputs": [],
   "source": [
    "par = model.par\n",
    "ss = model.ss\n",
    "sol = model.sol"
   ]
  },
  {
   "cell_type": "markdown",
   "id": "4bc31686-8de7-4f47-af70-61f968f63d04",
   "metadata": {},
   "source": [
    "# Find steady state"
   ]
  },
  {
   "cell_type": "code",
   "execution_count": 4,
   "id": "7c938e3e-9ea1-436d-b206-37cc2e15051f",
   "metadata": {},
   "outputs": [
    {
     "name": "stdout",
     "output_type": "stream",
     "text": [
      "\u001b[1m\u001b[94mLabor supply and search and matching:\u001b[0m\n",
      "ss.S = 4.24,  ss.L = 57.88,  ss.delta_L = 0.04,  ss.v = 9.41,  ss.m_v = 0.23\n",
      "\u001b[1m\u001b[94mCapital agency FOC:\u001b[0m\n",
      "ss.r_K = 0.14\n",
      "\u001b[1m\u001b[94mProduction firm pricing:\u001b[0m\n",
      "ss.r_ell = 2.71\n",
      "\u001b[1m\u001b[94mLabor agency:\u001b[0m\n",
      "ss.ell = 57.41,  ss.W = 2.67\n",
      "\u001b[1m\u001b[94mGovernment:\u001b[0m\n",
      "ss.B_G = 100.00,  ss.G = 61.82,  ss.tau = 0.42\n",
      "\u001b[1m\u001b[94mHouseholds:\u001b[0m\n",
      "solving for household behavior: result.converged = True\n",
      "ss.C = 93.66,  ss.B = 111.48\n",
      "\u001b[1m\u001b[94mProduction firm FOCs:\u001b[0m\n",
      "ss.K = 572.83\n",
      "\u001b[1m\u001b[94mCapital accumulation equation:\u001b[0m\n",
      "ss.I = 57.28\n",
      "\u001b[1m\u001b[94mOutput in production firm:\u001b[0m\n",
      "ss.Y = 235.90\n",
      "\u001b[1m\u001b[94mMarket clearing:\u001b[0m\n",
      "ss.C_Y = 65.56,  ss.G_Y = 55.64,  ss.I_Y = 37.23,  ss.X_Y = 77.47\n",
      "[ ss.C_M = 28.10,  ss.G_M = 6.18,  ss.I_M = 20.05,  ss.X_M = 51.65 ] = ss.M = 105.98\n",
      "ss.X = 129.11\n",
      "\u001b[1m\u001b[94mBargaining:\u001b[0m\n",
      "par.phi = 0.977\n"
     ]
    }
   ],
   "source": [
    "model.find_ss(do_print=True)"
   ]
  },
  {
   "cell_type": "markdown",
   "id": "0385744b-5fb4-4487-a2d8-913b8bd3433f",
   "metadata": {},
   "source": [
    "# Speed and Error Tests"
   ]
  },
  {
   "cell_type": "code",
   "execution_count": 5,
   "id": "72d75d57-1b5a-43c5-af7e-24fee95430d9",
   "metadata": {},
   "outputs": [],
   "source": [
    "model.set_exo_ss()\n",
    "model.set_unknowns_ss()"
   ]
  },
  {
   "cell_type": "markdown",
   "id": "a7b55ed0-8006-4f30-8bd3-d53733d4213e",
   "metadata": {},
   "source": [
    "**Python evaluation:**"
   ]
  },
  {
   "cell_type": "code",
   "execution_count": 6,
   "id": "91bc8e2e-fa97-4910-a1b0-5ae278c3c842",
   "metadata": {},
   "outputs": [
    {
     "name": "stdout",
     "output_type": "stream",
     "text": [
      "CPU times: user 1.82 s, sys: 25.1 ms, total: 1.84 s\n",
      "Wall time: 1.85 s\n"
     ]
    }
   ],
   "source": [
    "%time model.evaluate_blocks(py=True)"
   ]
  },
  {
   "cell_type": "markdown",
   "id": "15cb7eb0-2393-463b-8c26-4f610d894301",
   "metadata": {},
   "source": [
    "**Check errors:**"
   ]
  },
  {
   "cell_type": "code",
   "execution_count": 7,
   "id": "e9088602-134f-45c7-8722-0d9a47881110",
   "metadata": {},
   "outputs": [
    {
     "name": "stdout",
     "output_type": "stream",
     "text": [
      "bargaining_cond     : abs. max = 0.00e+00\n",
      "Bq_match            : abs. max = 1.45e-11\n",
      "FOC_capital_agency  : abs. max = 4.44e-16\n",
      "FOC_K_ell           : abs. max = 1.95e-14\n",
      "mkt_clearing        : abs. max = 2.84e-14\n"
     ]
    }
   ],
   "source": [
    "errors = model.get_errors(do_print=True)"
   ]
  },
  {
   "cell_type": "markdown",
   "id": "a3e8beed-19f6-4922-9487-977cbde8a499",
   "metadata": {},
   "source": [
    "**First numba evaluation:**"
   ]
  },
  {
   "cell_type": "code",
   "execution_count": 8,
   "id": "b9890840-8e3d-4101-8d90-156f9559d531",
   "metadata": {},
   "outputs": [
    {
     "name": "stdout",
     "output_type": "stream",
     "text": [
      "CPU times: user 18.7 s, sys: 367 ms, total: 19.1 s\n",
      "Wall time: 19.3 s\n"
     ]
    }
   ],
   "source": [
    "%time model.evaluate_blocks()"
   ]
  },
  {
   "cell_type": "markdown",
   "id": "48e95ec5-2e3c-4b9f-8060-9e506795cefa",
   "metadata": {},
   "source": [
    "**Time:**"
   ]
  },
  {
   "cell_type": "code",
   "execution_count": 9,
   "id": "056c5f6b-e1c7-468b-9824-c238dbea82f8",
   "metadata": {},
   "outputs": [
    {
     "name": "stdout",
     "output_type": "stream",
     "text": [
      "6.32 ms ± 196 µs per loop (mean ± std. dev. of 7 runs, 100 loops each)\n",
      "21.8 µs ± 773 ns per loop (mean ± std. dev. of 7 runs, 10,000 loops each)\n"
     ]
    }
   ],
   "source": [
    "%timeit model.evaluate_blocks()\n",
    "%timeit model.get_errors()"
   ]
  },
  {
   "cell_type": "code",
   "execution_count": 10,
   "id": "31c2e162-acad-4467-bba6-071434c92914",
   "metadata": {},
   "outputs": [
    {
     "name": "stdout",
     "output_type": "stream",
     "text": [
      "176 ms ± 6.24 ms per loop (mean ± std. dev. of 7 runs, 10 loops each)\n"
     ]
    }
   ],
   "source": [
    "%timeit model.evaluate_blocks(py=True)"
   ]
  },
  {
   "cell_type": "code",
   "execution_count": null,
   "id": "97a3463a-4c24-4fef-92f4-cf25b53a0526",
   "metadata": {},
   "outputs": [],
   "source": []
  }
 ],
 "metadata": {
  "kernelspec": {
   "display_name": "Python 3 (ipykernel)",
   "language": "python",
   "name": "python3"
  },
  "language_info": {
   "codemirror_mode": {
    "name": "ipython",
    "version": 3
   },
   "file_extension": ".py",
   "mimetype": "text/x-python",
   "name": "python",
   "nbconvert_exporter": "python",
   "pygments_lexer": "ipython3",
   "version": "3.9.12"
  }
 },
 "nbformat": 4,
 "nbformat_minor": 5
}
